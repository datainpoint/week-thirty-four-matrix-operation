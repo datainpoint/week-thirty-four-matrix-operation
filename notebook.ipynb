{
 "cells": [
  {
   "cell_type": "markdown",
   "id": "bb44fef8",
   "metadata": {},
   "source": [
    "# 約維安計畫：NumPy 與矩陣運算\n",
    "\n",
    "> 第三十四週\n",
    "\n",
    "![](vlado-paunovic-iBG594vhR1k-unsplash.jpg)\n",
    "\n",
    "來源：<https://unsplash.com/photos/iBG594vhR1k>"
   ]
  },
  {
   "cell_type": "code",
   "execution_count": 1,
   "id": "b36a2465",
   "metadata": {},
   "outputs": [],
   "source": [
    "import numpy as np"
   ]
  },
  {
   "cell_type": "markdown",
   "id": "c50d4448",
   "metadata": {},
   "source": [
    "## 科學計算語言的定義\n",
    "\n",
    "在「[約維安計畫：NumPy](https://open.substack.com/pub/datainpoint/p/week-thirty-three-numpy)」我們認識了 NumPy 模組給予的 ndarray 資料結構，儲存同質資料的 n 維數值陣列提供了與 Python 內建資料結構截然不同的功能面向，前者專注於計算效率、後者則著重於儲存彈性。事實上 NumPy 模組被命名為 Numeric Python(or Numerical Python) 就意味著這是一個位 Python 實踐數值計算的模組，也是科學計算的入門磚，簡而言之，假使我們提出一個問題：究竟是什麼原因能夠讓 Python 從「泛用程式語言」搖身一變為「科學計算語言」呢？答案呼之欲出：NumPy 模組。\n",
    "\n",
    "看到這裡讀者不免感到納悶，怎麼說 Python 不是「科學計算語言」呢？Python 不是數據分析、資料科學與機器學習的首選程式語言嗎？這時我們應該要探究「科學計算語言」的廣義或嚴格定義：\n",
    "\n",
    "> 廣義而言，科學計算語言指的是被多數科學研究者用於計算、數學或科學程式語言，因此，C/C++ 和 Python 可以被認為是廣義的科學計算語言。\n",
    ">\n",
    "> 嚴格定義而言，科學計算語言是為數學公式計算以及矩陣計算而設計、優化的程式語言，這類型的語言不僅要具備能夠相關的模組與套件，還要具備數學與科學計算的語法，例如，C/C++ 和 Python 都沒有內建的矩陣資料結構類別，亦沒有內建的矩陣運算函數、運算符號，這些功能必須仰賴標準或者第三方模組與套件提供。因此在嚴格定義下 C/C++ 和 Python 並不是科學計算語言，符合嚴格定義的科學計算語言包括 ALGOL、APL、Fortran、J、Julia、Maple、MATLAB 和 R。\n",
    "> \n",
    "> 來源：<https://en.wikipedia.org/wiki/Scientific_programming_language>\n",
    "\n",
    "## 如何關聯 ndarray 與數學\n",
    "\n",
    "`ndarray` 資料結構類型的設計和數學對待資料維度的概念一致，在數學上我們有純量、向量、矩陣與張量分別去描述零維、一維、二維與 n 維的資料，在 `ndarray` 的建立上，同樣也有零維陣列、一維陣列、二維陣列與 n 維陣列，我們可以用一張示意圖來暸解資料維度：\n",
    "\n",
    "![](arrays.jpg)\n",
    "\n",
    "來源：<https://dev.to/juancarlospaco/tensors-for-busy-people-315k>\n",
    "\n",
    "## 矩陣運算\n",
    "\n",
    "矩陣是一個由 m 列（row）n 欄（column）元素所組成的二維陣列，其中一個重要用途是解線性方程組，也常見於數值計算、統計分析與電腦科學等，在 NumPy 模組中我們就用二維的 ndarray 來建立與操作矩陣，因此像是列向量（row-vector）或者欄向量（column-vector）雖然在命名中是向量，我們仍會以外型 `(1, n)` 或者 `(m, 1)` 的二維陣列來對應，藉此確保維度的一致性。"
   ]
  },
  {
   "cell_type": "code",
   "execution_count": 2,
   "id": "a5afd50a",
   "metadata": {},
   "outputs": [],
   "source": [
    "u = np.array([5, 6, 7, 8]).reshape(-1, 1)\n",
    "v = np.array([5, 6, 7, 8]).reshape(-1, 1)"
   ]
  },
  {
   "cell_type": "markdown",
   "id": "5de851bd",
   "metadata": {},
   "source": [
    "`ndarray` 與 `list` 的其中一個差異處就在於元素對應運算（Element-wise），有時亦稱為向量化運算（Vectorization），我們可以讓 `ndarray` 和一個純量直接運算。"
   ]
  },
  {
   "cell_type": "code",
   "execution_count": 3,
   "id": "d80ae02f",
   "metadata": {},
   "outputs": [
    {
     "name": "stdout",
     "output_type": "stream",
     "text": [
      "[[25]\n",
      " [30]\n",
      " [35]\n",
      " [40]]\n",
      "[[30]\n",
      " [36]\n",
      " [42]\n",
      " [48]]\n"
     ]
    }
   ],
   "source": [
    "print(u * 5)\n",
    "print(v * 6)"
   ]
  },
  {
   "cell_type": "markdown",
   "id": "a4a91ce2",
   "metadata": {},
   "source": [
    "常見的矩陣處理技巧為轉置（Transpose），能夠將外型 `(m, n)` 的矩陣轉換為外型 `(n, m)`，這樣能使得位於 m 列 n 欄的元素，更動到 n 列 m 欄的位置。我們可以使用 `np.transpose()` 函數或者 `ndarray` 的 `T` 屬性。"
   ]
  },
  {
   "cell_type": "code",
   "execution_count": 4,
   "id": "52fb38fe",
   "metadata": {},
   "outputs": [
    {
     "name": "stdout",
     "output_type": "stream",
     "text": [
      "[[1 2 3]\n",
      " [4 5 6]]\n",
      "[[1 4]\n",
      " [2 5]\n",
      " [3 6]]\n",
      "[[1 4]\n",
      " [2 5]\n",
      " [3 6]]\n"
     ]
    }
   ],
   "source": [
    "A = np.arange(1, 7).reshape(2, 3)\n",
    "transpose_A = np.transpose(A)\n",
    "A_T = A.T\n",
    "print(A)\n",
    "print(transpose_A)\n",
    "print(A_T)"
   ]
  },
  {
   "cell_type": "markdown",
   "id": "82df12cc",
   "metadata": {},
   "source": [
    "列向量或欄向量的「相乘運算」除了元素對應運算外還有矩陣相乘，也就是所謂的乘積運算（Dot product），相乘的前提是左側向量的欄數和右側向量的列數必須相等。\n",
    "\n",
    "\\begin{equation}\n",
    "\\vec{u} \\cdot \\vec{v} = \\vec{u}^T \\cdot \\vec{v} \\\\\n",
    "= u_1v_1 + \\dots +u_nv_n \\\\\n",
    "\\vec{u} \\cdot \\vec{v} = \\vec{u} \\cdot \\vec{v}^T = \\begin{bmatrix} u_1v_1 & \\dots & u_1v_n           \\\\\n",
    "       \\vdots & \\ddots           & \\vdots \\\\\n",
    "       u_nv_1           & \\dots & u_nv_n \\end{bmatrix}\n",
    "\\end{equation}\n",
    "\n",
    "我們可以使用 `np.dot()` 函數或者 `ndarray` 的 `dot()` 方法來進行欄向量相乘。"
   ]
  },
  {
   "cell_type": "code",
   "execution_count": 5,
   "id": "75750c40",
   "metadata": {},
   "outputs": [
    {
     "name": "stdout",
     "output_type": "stream",
     "text": [
      "[[174]]\n",
      "[[25 30 35 40]\n",
      " [30 36 42 48]\n",
      " [35 42 49 56]\n",
      " [40 48 56 64]]\n"
     ]
    }
   ],
   "source": [
    "print(np.dot(u.T, v))\n",
    "print(u.dot(v.T))"
   ]
  },
  {
   "cell_type": "markdown",
   "id": "8a0d1db6",
   "metadata": {},
   "source": [
    "同樣的道理，矩陣相乘的前提也是左側矩陣的欄數和右側矩陣的列數必須相等。\n",
    "\n",
    "\\begin{equation}\n",
    "AB = \\begin{bmatrix} a_{11}b_{11} + \\dots + a_{1n}b_{n1} & \\dots & a_{11}b_{1m} + \\dots + a_{1n}b_{nm}           \\\\\n",
    "       \\vdots & \\ddots           & \\vdots \\\\\n",
    "       a_{m1}b_{11} + \\dots +  a_{mn}b_{n1}          & \\dots & \n",
    "a_{m1}b_{1m} + \\dots + a_{mn}b_{nm} \\end{bmatrix}\n",
    "\\end{equation}"
   ]
  },
  {
   "cell_type": "code",
   "execution_count": 6,
   "id": "55eec9ab",
   "metadata": {},
   "outputs": [
    {
     "name": "stdout",
     "output_type": "stream",
     "text": [
      "[[22 28]\n",
      " [49 64]]\n"
     ]
    }
   ],
   "source": [
    "A = np.arange(1, 7).reshape(2, 3)\n",
    "B = np.arange(1, 7).reshape(3, 2)\n",
    "print(A.dot(B))"
   ]
  },
  {
   "cell_type": "markdown",
   "id": "2c8eb151",
   "metadata": {},
   "source": [
    "利用 `np.eye()` 函數建立單位矩陣（Identity matrix），單位矩陣是一個方矩陣（意即列數與欄數相等），其對角線上的元素都是 1。"
   ]
  },
  {
   "cell_type": "code",
   "execution_count": 7,
   "id": "fc3159fe",
   "metadata": {},
   "outputs": [
    {
     "name": "stdout",
     "output_type": "stream",
     "text": [
      "[[1. 0.]\n",
      " [0. 1.]]\n",
      "[[1. 0. 0.]\n",
      " [0. 1. 0.]\n",
      " [0. 0. 1.]]\n",
      "[[1. 0. 0. 0.]\n",
      " [0. 1. 0. 0.]\n",
      " [0. 0. 1. 0.]\n",
      " [0. 0. 0. 1.]]\n"
     ]
    }
   ],
   "source": [
    "I_22 = np.eye(2)\n",
    "I_33 = np.eye(3)\n",
    "I_44 = np.eye(4)\n",
    "print(I_22)\n",
    "print(I_33)\n",
    "print(I_44)"
   ]
  },
  {
   "cell_type": "markdown",
   "id": "c186a5cb",
   "metadata": {},
   "source": [
    "面對矩陣代數的時候，矩陣與其反矩陣相乘可以得到單位矩陣，因此在解下列矩陣代數方程式的時候，是將等號兩邊乘上 A 的反矩陣來求解，我們可以使用 `np.linalg.inv()` 函數計算 A 的反矩陣。\n",
    "\n",
    "\\begin{equation}\n",
    "Ax = B \\\\\n",
    "A^{-1}Ax = B \\\\\n",
    "x = A^{-1}B\n",
    "\\end{equation}\n",
    "\n",
    "以下列的線性方程組為例：\n",
    "\n",
    "\\begin{cases}\n",
    "    x + 3y = 5      \\\\\n",
    "    x + 2y = 3\n",
    "\\end{cases}"
   ]
  },
  {
   "cell_type": "code",
   "execution_count": 8,
   "id": "1cad4a8c",
   "metadata": {},
   "outputs": [
    {
     "name": "stdout",
     "output_type": "stream",
     "text": [
      "[[-1.]\n",
      " [ 2.]]\n"
     ]
    }
   ],
   "source": [
    "A = np.array([1, 3, 1, 2]).reshape(2, 2)\n",
    "B = np.array([5, 3]).reshape(2, 1)\n",
    "inv_A = np.linalg.inv(A)\n",
    "x = inv_A.dot(B)\n",
    "print(x)"
   ]
  },
  {
   "cell_type": "markdown",
   "id": "cd50a12c",
   "metadata": {},
   "source": [
    "入門矩陣運算之後，我們就能夠在未來的電子報中透過 ndarray 運算認識機器學習的資料預處理與模型訓練，這週也是我第一次使用了 Substack 的 LaTex 功能，非常開心！在認識了 NumPy 與矩陣運算之後，第三十四週約維安計畫來到尾聲，希望您也和我一樣期待下一篇文章。\n",
    "\n",
    "對於這篇文章有什麼想法呢？喜歡😻、留言🙋‍♂️或者分享🙌"
   ]
  }
 ],
 "metadata": {
  "kernelspec": {
   "display_name": "Python 3 (ipykernel)",
   "language": "python",
   "name": "python3"
  },
  "language_info": {
   "codemirror_mode": {
    "name": "ipython",
    "version": 3
   },
   "file_extension": ".py",
   "mimetype": "text/x-python",
   "name": "python",
   "nbconvert_exporter": "python",
   "pygments_lexer": "ipython3",
   "version": "3.9.16"
  }
 },
 "nbformat": 4,
 "nbformat_minor": 5
}
